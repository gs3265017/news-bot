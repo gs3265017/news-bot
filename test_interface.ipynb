{
 "cells": [
  {
   "cell_type": "code",
   "execution_count": 1,
   "id": "118efe08",
   "metadata": {},
   "outputs": [
    {
     "name": "stdout",
     "output_type": "stream",
     "text": [
      "('PostgreSQL 14.18 (Homebrew) on x86_64-apple-darwin22.6.0, compiled by Apple clang version 15.0.0 (clang-1500.1.0.2.5), 64-bit',)\n"
     ]
    }
   ],
   "source": [
    "import psycopg2\n",
    "\n",
    "conn = psycopg2.connect(\n",
    "    dbname=\"telegram_bot\",\n",
    "    user=\"bot_user\",\n",
    "    password=\"WN0IHlKNKGKGwZcr4e5gHPfyqoljuTVR\",\n",
    "    host=\"localhost\"\n",
    ")\n",
    "\n",
    "cursor = conn.cursor()\n",
    "cursor.execute(\"SELECT version();\")\n",
    "print(cursor.fetchone())\n",
    "conn.close()"
   ]
  },
  {
   "cell_type": "code",
   "execution_count": 16,
   "id": "a17a1bf5",
   "metadata": {},
   "outputs": [
    {
     "name": "stdout",
     "output_type": "stream",
     "text": [
      "НОВЫЙ КЛЮЧ: cP3B7WZBa7nndUQnxZDHCCljxcNG47IOXf0z2GGsH7E=\n",
      "Текущий ключ: your_super_secure_key_32_bytes\n",
      "Новый ключ: b'cP3B7WZBa7nndUQnxZDHCCljxcNG47IOXf0z2GGsH7E='\n",
      "Длина: 30 символов\n",
      "Длина: 44 символов\n",
      "Ошибка декодирования: Incorrect padding\n"
     ]
    }
   ],
   "source": [
    "import base64\n",
    "from cryptography.fernet import Fernet\n",
    "\n",
    "generator = Fernet.generate_key()\n",
    "print(\"НОВЫЙ КЛЮЧ:\", generator.decode())\n",
    "\n",
    "key = os.getenv(\"ENCRYPTION_KEY\")\n",
    "print(\"Текущий ключ:\", key)\n",
    "print(\"Новый ключ:\", generator)\n",
    "print(\"Длина:\", len(key), \"символов\")\n",
    "print(\"Длина:\", len(generator), \"символов\")\n",
    "try:\n",
    "    decoded = base64.urlsafe_b64decode(key)\n",
    "    print(\"Длина после декодирования:\", len(decoded), \"байт\")\n",
    "except Exception as e:\n",
    "    print(\"Ошибка декодирования:\", e)"
   ]
  },
  {
   "cell_type": "code",
   "execution_count": 13,
   "id": "242e0eb5",
   "metadata": {},
   "outputs": [
    {
     "name": "stdout",
     "output_type": "stream",
     "text": [
      "Ошибка: Incorrect padding\n"
     ]
    }
   ],
   "source": [
    "import base64\n",
    "import os\n",
    "\n",
    "key = os.getenv(\"ENCRYPTION_KEY\")\n",
    "try:\n",
    "    print(\"Длина ключа:\", len(base64.urlsafe_b64decode(key)))\n",
    "except Exception as e:\n",
    "    print(\"Ошибка:\", e)"
   ]
  },
  {
   "cell_type": "code",
   "execution_count": null,
   "id": "58d8cf74",
   "metadata": {},
   "outputs": [],
   "source": []
  }
 ],
 "metadata": {
  "kernelspec": {
   "display_name": "venv",
   "language": "python",
   "name": "python3"
  },
  "language_info": {
   "codemirror_mode": {
    "name": "ipython",
    "version": 3
   },
   "file_extension": ".py",
   "mimetype": "text/x-python",
   "name": "python",
   "nbconvert_exporter": "python",
   "pygments_lexer": "ipython3",
   "version": "3.13.3"
  }
 },
 "nbformat": 4,
 "nbformat_minor": 5
}
